{
  "nbformat": 4,
  "nbformat_minor": 0,
  "metadata": {
    "colab": {
      "provenance": [],
      "authorship_tag": "ABX9TyPOZu+djHytd8UCdlw/0v7t",
      "include_colab_link": true
    },
    "kernelspec": {
      "name": "python3",
      "display_name": "Python 3"
    },
    "language_info": {
      "name": "python"
    }
  },
  "cells": [
    {
      "cell_type": "markdown",
      "metadata": {
        "id": "view-in-github",
        "colab_type": "text"
      },
      "source": [
        "<a href=\"https://colab.research.google.com/github/12SubhaAhmed/assign-4-Q3/blob/main/01_expressions.ipynb\" target=\"_parent\"><img src=\"https://colab.research.google.com/assets/colab-badge.svg\" alt=\"Open In Colab\"/></a>"
      ]
    },
    {
      "cell_type": "code",
      "execution_count": null,
      "metadata": {
        "id": "P_50kBkdsX9e"
      },
      "outputs": [],
      "source": [
        "#01_dicesimulator.\n",
        "#  This program is used to show how variable scope works.\n",
        "\n",
        "# Import the random library which lets us simulate random things like dice!\n",
        "import random\n",
        "\n",
        "def rollDice():\n",
        "  die1 : int = random.randint(1,6)\n",
        "  die2 : int = random.randint(1,6)\n",
        "  total = die1 + die2\n",
        "  print(\"Total of two dice is:\",total)\n",
        "\n",
        "def main():\n",
        "    die1: int = 10\n",
        "    print(\"die1 in main() starts as: \" + str(die1))\n",
        "    rollDice()\n",
        "    rollDice()\n",
        "    rollDice()\n",
        "    print(\"die1 in main() is: \" + str(die1))\n",
        "\n",
        "if __name__ == '__main__':\n",
        "    main()\n",
        "\n"
      ]
    },
    {
      "cell_type": "code",
      "source": [
        "#02_e=mc2\n",
        "C: int = 299792458  #The speed of light in m/s\n",
        "\n",
        "def measure():\n",
        "    mass_in_kg: float = float(input(\"Enter kilos of mass: \"))\n",
        "    energy_in_joules: float = mass_in_kg * (C ** 2)\n",
        "\n",
        "    print(\"e = m * C^2...\")\n",
        "    print(\"m = \" + str(mass_in_kg) + \" kg\")\n",
        "    print(\"C = \" + str(C) + \" m/s\")\n",
        "\n",
        "    print(str(energy_in_joules) + \" joules of energy!\")\n",
        "\n",
        "\n",
        "if __name__ == '__main__':\n",
        "    measure()"
      ],
      "metadata": {
        "id": "vIKHo8OFyAkD"
      },
      "execution_count": null,
      "outputs": []
    },
    {
      "cell_type": "code",
      "source": [
        "#03_feet_to_inches\n",
        "\n",
        "footInch: int = 12\n",
        "\n",
        "def inches():\n",
        "    feet: float = float(input(\"Enter number of feet: \"))\n",
        "    inches: float = feet * footInch\n",
        "    print(\"That is\", inches, \"inches!\")\n",
        "\n",
        "if __name__ == '__main__':\n",
        "    inches()"
      ],
      "metadata": {
        "id": "AqdoTSntzGom"
      },
      "execution_count": null,
      "outputs": []
    },
    {
      "cell_type": "code",
      "source": [
        "#04_pythagorean_theorem\n",
        "\n",
        "import math\n",
        "\n",
        "def triangle():\n",
        "    # Get the two side lengths from the user and cast them to be numbers\n",
        "    ab: float = float(input(\"Enter the length of AB: \"))\n",
        "    ac: float = float(input(\"Enter the length of AC: \"))\n",
        "\n",
        "    # Calculate the hypotenuse using the two sides\n",
        "    bc: float = math.sqrt(ab**2 + ac**2)\n",
        "    print(\"The length of BC is: \" + str(bc))\n",
        "\n",
        "\n",
        "if __name__ == '__main__':\n",
        "    triangle()"
      ],
      "metadata": {
        "id": "_3xfdvDE0GQQ"
      },
      "execution_count": null,
      "outputs": []
    },
    {
      "cell_type": "code",
      "source": [
        "#05_remainder_division\n",
        "\n",
        "def reminder():\n",
        "    dividend: int = int(input(\"Please enter an integer to be divided: \"))\n",
        "    divisor: int = int(input(\"Please enter an integer to divide by: \"))\n",
        "\n",
        "    quotient: int = dividend // divisor\n",
        "    remainder: int = dividend % divisor\n",
        "\n",
        "    print(\"The result of this division is \" + str(quotient) + \" with a remainder of \" + str(remainder))\n",
        "\n",
        "if __name__ == '__main__':\n",
        "    reminder()\n"
      ],
      "metadata": {
        "id": "fWsH1M3O1pDr"
      },
      "execution_count": null,
      "outputs": []
    },
    {
      "cell_type": "code",
      "source": [
        "#06_rolldice\n",
        "\n",
        "import random\n",
        "\n",
        "sides: int = 6\n",
        "\n",
        "def Dice():\n",
        "    die1: int = random.randint(1, 6)\n",
        "    die2: int = random.randint(1, 6)\n",
        "    total: int = die1 + die2\n",
        "\n",
        "    # Print out the results\n",
        "    print(\"Dice have\", sides, \"sides each.\")\n",
        "    print(\"First die:\", die1)\n",
        "    print(\"Second die:\", die2)\n",
        "    print(\"Total of two dice:\", total)\n",
        "\n",
        "if __name__ == '__main__':\n",
        "    Dice()"
      ],
      "metadata": {
        "id": "cnyWVuMq2PH8"
      },
      "execution_count": null,
      "outputs": []
    },
    {
      "cell_type": "code",
      "source": [
        "#06_seconds_in_year\n",
        "days: int = 365\n",
        "hours: int = 24\n",
        "mins: int = 60\n",
        "sec: int = 60\n",
        "\n",
        "def main():\n",
        "    print(\"There are \" + str(days * hours * mins * sec) + \" seconds in a year!\")\n",
        "\n",
        "if __name__ == '__main__':\n",
        "    main()"
      ],
      "metadata": {
        "id": "ZQEZiuTb4gxZ"
      },
      "execution_count": null,
      "outputs": []
    },
    {
      "cell_type": "code",
      "source": [
        "#07_tiny_mad_lib\n",
        "\n",
        "def lib():\n",
        "    adjective: str = input(\"Please type an adjective and press enter. \")\n",
        "    noun: str = input(\"Please type a noun and press enter. \")\n",
        "    verb: str = input(\"Please type a verb and press enter. \")\n",
        "    adverb: str = input(\"Please type a adverb and press enter. \")\n",
        "    print(f'Do you {verb} your {adjective} {noun} {adverb}?Thats hillirious!')\n",
        "\n",
        "if __name__ == '__main__':\n",
        "    lib()"
      ],
      "metadata": {
        "id": "7lOpua1w-NBj"
      },
      "execution_count": null,
      "outputs": []
    }
  ]
}
