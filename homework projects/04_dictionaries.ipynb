{
  "cells": [
    {
      "cell_type": "markdown",
      "metadata": {
        "id": "view-in-github",
        "colab_type": "text"
      },
      "source": [
        "<a href=\"https://colab.research.google.com/github/12SubhaAhmed/assign-4-Q3/blob/main/04_dictionaries.ipynb\" target=\"_parent\"><img src=\"https://colab.research.google.com/assets/colab-badge.svg\" alt=\"Open In Colab\"/></a>"
      ]
    },
    {
      "cell_type": "code",
      "execution_count": null,
      "metadata": {
        "id": "JvQgZFLkLuWc"
      },
      "outputs": [],
      "source": [
        "#00_count_nums\n",
        "def get_user_numbers():\n",
        "    user_numbers = []\n",
        "    while True:\n",
        "        user_input = input(\"Enter a number: \")\n",
        "        if user_input == \"\":\n",
        "            break\n",
        "        num = int(user_input)\n",
        "        user_numbers.append(num)\n",
        "\n",
        "    return user_numbers\n",
        "\n",
        "def count_nums(num_lst):\n",
        "    num_dict = {}\n",
        "    for num in num_lst:\n",
        "        if num not in num_dict:\n",
        "            num_dict[num] = 1\n",
        "        else:\n",
        "            num_dict[num] += 1\n",
        "\n",
        "    return num_dict\n",
        "\n",
        "\n",
        "def print_counts(num_dict):\n",
        "    for num in num_dict:\n",
        "        print(str(num) + \" appears \" + str(num_dict[num]) + \" times.\")\n",
        "\n",
        "\n",
        "def main():\n",
        "    user_numbers = get_user_numbers()\n",
        "    num_dict = count_nums(user_numbers)\n",
        "    print_counts(num_dict)\n",
        "\n",
        "if __name__ == '__main__':\n",
        "  main()"
      ]
    },
    {
      "cell_type": "code",
      "execution_count": null,
      "metadata": {
        "colab": {
          "background_save": true
        },
        "id": "zNpDYJVrO_GC"
      },
      "outputs": [],
      "source": [
        "#01_phonebook\n",
        "def ReadNum():\n",
        "  phoneBook = {}\n",
        "\n",
        "  while True:\n",
        "    name = str(input(\"Name: \"))\n",
        "    if name == \"\":\n",
        "      break\n",
        "    number = int(input(\"Number: \"))\n",
        "    phoneBook[name] = number\n",
        "  return phoneBook\n",
        "\n",
        "def print_phonebook(phoneBook):\n",
        "   for name in phoneBook:\n",
        "        print(str(name) + \" -> \" + str(phoneBook[name]))\n",
        "\n",
        "def lookupNums(phoneBook):\n",
        "  while True:\n",
        "    name = input(\"Enter a name: \")\n",
        "    if name == \"\":\n",
        "      break\n",
        "    if name not in phoneBook:\n",
        "      print(name + \" is not in your phone book.\")\n",
        "    else:\n",
        "      print(phoneBook[name])\n",
        "\n",
        "def main():\n",
        "    phonebook = ReadNum()\n",
        "    print_phonebook(phonebook)\n",
        "    lookupNums(phonebook)\n",
        "\n",
        "if __name__ == '__main__':\n",
        "    main()\n",
        "\n"
      ]
    },
    {
      "cell_type": "code",
      "execution_count": null,
      "metadata": {
        "id": "Rib_YNUkUvHy"
      },
      "outputs": [],
      "source": [
        "#02_pop_up_shop\n",
        "def fruit():\n",
        "    fruits = {'apple': 1.5, 'orange': 50, 'banana': 80, 'kiwi': 1, 'grapes': 1.5, 'mango': 5}\n",
        "\n",
        "    total_cost = 0\n",
        "    for fruit_name in fruits:\n",
        "        price = fruits[fruit_name]\n",
        "        amount_bought = int(input(\"How many (\" + fruit_name + \") do you want to buy?: \"))\n",
        "        total_cost += (price * amount_bought)\n",
        "\n",
        "    print(\"Your total is $\" + str(total_cost))\n",
        "\n",
        "\n",
        "if __name__ == '__main__':\n",
        "    fruit()"
      ]
    },
    {
      "cell_type": "code",
      "execution_count": null,
      "metadata": {
        "id": "ijeRcDu2YOuw"
      },
      "outputs": [],
      "source": [
        "#03_powerful_passwords\n",
        "import hashlib\n",
        "\n",
        "def hash_password(password):\n",
        "    return hashlib.sha256(password.encode()).hexdigest()\n",
        "\n",
        "store_logins = {\n",
        "    \"user@examplemail.com\": hash_password(\"1234\"),\n",
        "    \"admin@examplemail.com\": hash_password(\"1235\")\n",
        "}\n",
        "\n",
        "def login(email, password):\n",
        "    if email in store_logins:\n",
        "        return store_logins[email] == hash_password(password)\n",
        "    return False\n",
        "\n",
        "if __name__ == '__main__':\n",
        "    email = input(\"Enter your email: \")\n",
        "    password = input(\"Enter your password: \")\n",
        "\n",
        "    if login(email, password):\n",
        "        print(\"Login Successful!\")\n",
        "    else:\n",
        "        print(\"Invalid email or password!\")\n",
        "\n"
      ]
    }
  ],
  "metadata": {
    "colab": {
      "provenance": [],
      "authorship_tag": "ABX9TyMdxQOX8P6iKzhIYkOj81HI",
      "include_colab_link": true
    },
    "kernelspec": {
      "display_name": "Python 3",
      "name": "python3"
    },
    "language_info": {
      "name": "python"
    }
  },
  "nbformat": 4,
  "nbformat_minor": 0
}
