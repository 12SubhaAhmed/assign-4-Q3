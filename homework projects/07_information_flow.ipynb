{
  "nbformat": 4,
  "nbformat_minor": 0,
  "metadata": {
    "colab": {
      "provenance": [],
      "authorship_tag": "ABX9TyNCxGwtGFXeYGLFPH7xpeqN",
      "include_colab_link": true
    },
    "kernelspec": {
      "name": "python3",
      "display_name": "Python 3"
    },
    "language_info": {
      "name": "python"
    }
  },
  "cells": [
    {
      "cell_type": "markdown",
      "metadata": {
        "id": "view-in-github",
        "colab_type": "text"
      },
      "source": [
        "<a href=\"https://colab.research.google.com/github/12SubhaAhmed/assign-4-Q3/blob/main/07_information_flow.ipynb\" target=\"_parent\"><img src=\"https://colab.research.google.com/assets/colab-badge.svg\" alt=\"Open In Colab\"/></a>"
      ]
    },
    {
      "cell_type": "code",
      "execution_count": null,
      "metadata": {
        "id": "PN-KFaW6Y1TY"
      },
      "outputs": [],
      "source": [
        "#00_choosing_returns\n",
        "adult = 18\n",
        "\n",
        "def is_adult(age:int):\n",
        "  if age >= adult:\n",
        "    return True\n",
        "\n",
        "  return False\n",
        "\n",
        "def main():\n",
        "  age :str = int(input(\"Enter your age: \"))\n",
        "  print(is_adult(age))\n",
        "\n",
        "if __name__ == '__main__':\n",
        "  main()"
      ]
    },
    {
      "cell_type": "code",
      "source": [
        "#01_greetings\n",
        "def main():\n",
        "    name : str = input(\"What's your name? \")\n",
        "    print(greet(name))\n",
        "\n",
        "\n",
        "def greet(name):\n",
        "    return \"Greetings \" + name + \"!\"\n",
        "\n",
        "if __name__ == '__main__':\n",
        "    main()\n"
      ],
      "metadata": {
        "id": "GJTz5iP0ae0T"
      },
      "execution_count": null,
      "outputs": []
    },
    {
      "cell_type": "code",
      "source": [
        "# 02_in_range.py\n",
        "def is_in_range(n, low, high):\n",
        "    if n >= low and n <= high:\n",
        "        return True\n",
        "    return False\n",
        "\n",
        "def main():\n",
        "    num = int(input(\"Enter your number: \"))\n",
        "    low = int(input(\"Enter the lower bound: \"))\n",
        "    high = int(input(\"Enter the upper bound: \"))\n",
        "\n",
        "    if is_in_range(num, low, high):\n",
        "        print(f\"{num} is in the range {low} to {high}.\")\n",
        "    else:\n",
        "        print(f\"{num} is NOT in the range {low} to {high}.\")\n",
        "\n",
        "if __name__ == '__main__':\n",
        "    main()\n"
      ],
      "metadata": {
        "id": "kq1cnxx2a188"
      },
      "execution_count": null,
      "outputs": []
    },
    {
      "cell_type": "code",
      "source": [
        "#03_in_stock\n",
        "\n",
        "def main():\n",
        "  fruit = input(\"Enter fruit: \")\n",
        "  stock = num_in_stock(fruit)\n",
        "  if stock == 0:\n",
        "    print(\"This fruit is not in stock.\")\n",
        "  else:\n",
        "    print(\"This fruit is in stock! Here is how many:\")\n",
        "    print(stock)\n",
        "\n",
        "def num_in_stock(fruit):\n",
        "  if fruit == 'apple':\n",
        "    return 2\n",
        "\n",
        "  if fruit == 'pear':\n",
        "    return 6\n",
        "\n",
        "  if fruit == 'mango':\n",
        "    return 10\n",
        "\n",
        "  else:\n",
        "    return 0\n",
        "\n",
        "if __name__ == '__main__':\n",
        "    main()"
      ],
      "metadata": {
        "id": "fy2RFvyIeHIM"
      },
      "execution_count": null,
      "outputs": []
    },
    {
      "cell_type": "code",
      "source": [
        "#04_multiple_returns\n",
        "def get_data():\n",
        "  first_name = str(input(\"Enter your first name: \"))\n",
        "  last_name = str(input(\"Enter your last name: \"))\n",
        "  email = str(input(\"Enter your email: \"))\n",
        "\n",
        "  return first_name, last_name, email\n",
        "\n",
        "def main():\n",
        "  user_data = get_data()\n",
        "  print(\"Recieved the following user data: \", user_data)\n",
        "\n",
        "if __name__ == '__main__':\n",
        "    main()\n"
      ],
      "metadata": {
        "id": "YDp3wxsxjbB-"
      },
      "execution_count": null,
      "outputs": []
    },
    {
      "cell_type": "code",
      "source": [
        "#05_subtract_7\n",
        "def main():\n",
        "\tnum: int = 7\n",
        "\tnum = subtract_seven(num)\n",
        "\tprint(\"this should be zero: \", num)\n",
        "\n",
        "def subtract_seven(num):\n",
        "\tnum = num - 7\n",
        "\treturn num\n",
        "\n",
        "if __name__ == '__main__':\n",
        "    main()"
      ],
      "metadata": {
        "id": "-Tky2n2xln7Y"
      },
      "execution_count": null,
      "outputs": []
    }
  ]
}
