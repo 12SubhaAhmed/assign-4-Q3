{
  "nbformat": 4,
  "nbformat_minor": 0,
  "metadata": {
    "colab": {
      "provenance": [],
      "authorship_tag": "ABX9TyMTj0Uq30yQnlMKIZsUqWH2",
      "include_colab_link": true
    },
    "kernelspec": {
      "name": "python3",
      "display_name": "Python 3"
    },
    "language_info": {
      "name": "python"
    }
  },
  "cells": [
    {
      "cell_type": "markdown",
      "metadata": {
        "id": "view-in-github",
        "colab_type": "text"
      },
      "source": [
        "<a href=\"https://colab.research.google.com/github/12SubhaAhmed/assign-4-Q3/blob/main/05_loops_control_flow.ipynb\" target=\"_parent\"><img src=\"https://colab.research.google.com/assets/colab-badge.svg\" alt=\"Open In Colab\"/></a>"
      ]
    },
    {
      "cell_type": "code",
      "execution_count": null,
      "metadata": {
        "id": "HCxoExIPsGVf"
      },
      "outputs": [],
      "source": [
        "#00_guess_my_number\n",
        "import random\n",
        "\n",
        "def secretNum():\n",
        "  secret_number = random.randint(1,99)\n",
        "  print(\"I'm thinking of a number between 1 to 10...\")\n",
        "\n",
        "  guess = int(input(\"Enter a guess: \"))\n",
        "\n",
        "  while guess != secret_number:\n",
        "     if guess < secret_number:\n",
        "          print(\"Your guess is too low\")\n",
        "     else:\n",
        "          print(\"Your guess is too high\")\n",
        "\n",
        "          print()\n",
        "     guess = int(input(\"Enter a new guess: \"))\n",
        "\n",
        "  print(\"Congrats! The number was: \" + str(secret_number))\n",
        "\n",
        "if __name__ == '__main__':\n",
        "    secretNum()"
      ]
    },
    {
      "cell_type": "code",
      "source": [
        "#01_fibonacci.\n",
        "maxVal : int = 10000\n",
        "\n",
        "def main():\n",
        "    curr_term = 0  # The 0th Fibonacci Number\n",
        "    next_term = 1  # The 1st Fibonacci Number\n",
        "    while curr_term <= maxVal:\n",
        "        print(curr_term)\n",
        "        term_after_next = curr_term + next_term\n",
        "        curr_term = next_term\n",
        "        next_term = term_after_next\n",
        "\n",
        "\n",
        "# There is no need to edit code beyond this point\n",
        "\n",
        "if __name__ == '__main__':\n",
        "    main()"
      ],
      "metadata": {
        "id": "yVMHxBcduxQ3"
      },
      "execution_count": null,
      "outputs": []
    },
    {
      "cell_type": "code",
      "source": [
        "#02_print_events.\n",
        "\n",
        "def even():\n",
        "  for i in range(20):\n",
        "      print(i * 2)\n",
        "\n",
        "if __name__ == '__main__':\n",
        "    even()\n"
      ],
      "metadata": {
        "id": "Dv1VGR87vOCi"
      },
      "execution_count": null,
      "outputs": []
    },
    {
      "cell_type": "code",
      "source": [
        "#03_wholesome_machine\n",
        "affirmation: str = \"I am capable of doing anything I put my mind to.\"\n",
        "\n",
        "def affirmation():\n",
        "    print(\"Please type the following affirmation: \" + affirmation)\n",
        "\n",
        "    user_feedback = input()\n",
        "    while user_feedback != affirmation:\n",
        "        # Tell the user that they did not type the affirmation correctly\n",
        "        print(\"That was not the affirmation.\")\n",
        "\n",
        "        # Ask the user to type the affirmation again!\n",
        "        print(\"Please type the following affirmation: \" + affirmation)\n",
        "        user_feedback = input()\n",
        "\n",
        "    print(\"That's right! :)\")\n",
        "\n",
        "if __name__ == '__main__':\n",
        "    affirmation()"
      ],
      "metadata": {
        "id": "8E4Ki9Qgv0Cf"
      },
      "execution_count": null,
      "outputs": []
    },
    {
      "cell_type": "code",
      "source": [
        "#04_liftoff\n",
        "def main():\n",
        "  for i in range(10,0,-1):\n",
        "      print(i,end = \" \")\n",
        "  print(\" Lift Off 🚀\")\n",
        "if __name__ == '__main__':\n",
        "    main()"
      ],
      "metadata": {
        "id": "d_v2IMQSxfvd"
      },
      "execution_count": null,
      "outputs": []
    },
    {
      "cell_type": "code",
      "source": [
        "#05_double_it\n",
        "def double():\n",
        "  value = int(input(\"Enter A Nummber\"))\n",
        "  while value < 100:\n",
        "    value = value * 2\n",
        "    print(value)\n",
        "\n",
        "if __name__ == '__main__':\n",
        "    double()"
      ],
      "metadata": {
        "id": "QLiCBod6zSdB"
      },
      "execution_count": null,
      "outputs": []
    }
  ]
}