{
  "nbformat": 4,
  "nbformat_minor": 0,
  "metadata": {
    "colab": {
      "provenance": [],
      "authorship_tag": "ABX9TyOTGa0+OT85WIXrqSt16Z+c",
      "include_colab_link": true
    },
    "kernelspec": {
      "name": "python3",
      "display_name": "Python 3"
    },
    "language_info": {
      "name": "python"
    }
  },
  "cells": [
    {
      "cell_type": "markdown",
      "metadata": {
        "id": "view-in-github",
        "colab_type": "text"
      },
      "source": [
        "<a href=\"https://colab.research.google.com/github/12SubhaAhmed/assign-4-Q3/blob/main/03_if_statements.ipynb\" target=\"_parent\"><img src=\"https://colab.research.google.com/assets/colab-badge.svg\" alt=\"Open In Colab\"/></a>"
      ]
    },
    {
      "cell_type": "code",
      "execution_count": null,
      "metadata": {
        "id": "sGzRx7IFFTbg"
      },
      "outputs": [],
      "source": [
        "#01_print_events\n",
        "def even():\n",
        "  for i in range(20):\n",
        "    print(i * 2)\n",
        "\n",
        "if __name__ == \"__main__\":\n",
        "    even()\n"
      ]
    },
    {
      "cell_type": "code",
      "source": [
        "#02_international_voting_age\n",
        "\n",
        "PETURKSBOUIPO_AGE : int = 16\n",
        "STANLAU_AGE : int = 25\n",
        "MAYENGUA_AGE : int = 48\n",
        "\n",
        "def age():\n",
        "  userAge = int(input(\"How old are you?\"))\n",
        "\n",
        "  if userAge >= PETURKSBOUIPO_AGE:\n",
        "    print(\"You can vote in Peturksbouipo where the voting age is \" + str(PETURKSBOUIPO_AGE) + \".\")\n",
        "  else:\n",
        "    print(\"You cannot vote in Peturksbouipo where the voting age is \" + str(PETURKSBOUIPO_AGE) + \".\")\n",
        "\n",
        "  if userAge >= STANLAU_AGE:\n",
        "     print(\"You can vote in Stanlau where the voting age is \" + str(STANLAU_AGE) + \".\")\n",
        "  else:\n",
        "     print(\"You cannot vote in Stanlau where the voting age is \" + str(STANLAU_AGE) + \".\")\n",
        "  if userAge >= MAYENGUA_AGE:\n",
        "     print(\"You can vote in Mayengua where the voting age is \" + str(MAYENGUA_AGE) + \".\")\n",
        "  else:\n",
        "    print(\"You cannot vote in Mayengua where the voting age is \" + str(MAYENGUA_AGE) + \".\")\n",
        "\n",
        "if __name__ == \"__main__\":\n",
        "    age()"
      ],
      "metadata": {
        "id": "c0_bEbS1CY7M"
      },
      "execution_count": null,
      "outputs": []
    },
    {
      "cell_type": "code",
      "source": [
        "#03_leap_year.\n",
        "def year():\n",
        "  year = int(input(\"Please input a year:\"))\n",
        "  if year % 4 == 0:\n",
        "    if year % 100 == 0:\n",
        "      if year % 400 == 0:\n",
        "        print(\"That's a leap year!\")\n",
        "      else:\n",
        "        print(\"That's not a leap year!\")\n",
        "    else:\n",
        "      print(\"That's a leap year!\")\n",
        "  else:\n",
        "    print(\"That's not a leap year!\")\n",
        "\n",
        "if __name__ == \"__main__\":\n",
        "    year()"
      ],
      "metadata": {
        "id": "84_H1xuaGTmE"
      },
      "execution_count": null,
      "outputs": []
    },
    {
      "cell_type": "code",
      "source": [
        "#04_tall_enough_to_ride\n",
        "\n",
        "MINIMUM_HEIGHT : int = 50 # arbitrary units :)\n",
        "\n",
        "def tall():\n",
        "    height = float(input(\"How tall are you? \"))\n",
        "    if height >= MINIMUM_HEIGHT:\n",
        "        print(\"You're tall enough to ride!\")\n",
        "    else:\n",
        "        print(\"You're not tall enough to ride, but maybe next year!\")\n",
        "\n",
        "if __name__ == \"__main__\":\n",
        "    tall()\n"
      ],
      "metadata": {
        "id": "a9Ldt5SKIaBB"
      },
      "execution_count": null,
      "outputs": []
    },
    {
      "cell_type": "code",
      "source": [
        "#05_random_numbers\n",
        "import random\n",
        "\n",
        "def randomNum():\n",
        "  for i in range(10):\n",
        "    num : list[int] = random.randint(1,100)\n",
        "    print(num)\n",
        "\n",
        "if __name__ == \"__main__\":\n",
        "    randomNum()\n"
      ],
      "metadata": {
        "id": "57FDa-Z1JCQT"
      },
      "execution_count": null,
      "outputs": []
    }
  ]
}