{
  "nbformat": 4,
  "nbformat_minor": 0,
  "metadata": {
    "colab": {
      "provenance": [],
      "authorship_tag": "ABX9TyPLXYJf6XHeZ4G3Ol4IbJiT",
      "include_colab_link": true
    },
    "kernelspec": {
      "name": "python3",
      "display_name": "Python 3"
    },
    "language_info": {
      "name": "python"
    }
  },
  "cells": [
    {
      "cell_type": "markdown",
      "metadata": {
        "id": "view-in-github",
        "colab_type": "text"
      },
      "source": [
        "<a href=\"https://colab.research.google.com/github/12SubhaAhmed/assign-4-Q3/blob/main/00_intro_python.ipynb\" target=\"_parent\"><img src=\"https://colab.research.google.com/assets/colab-badge.svg\" alt=\"Open In Colab\"/></a>"
      ]
    },
    {
      "cell_type": "code",
      "execution_count": null,
      "metadata": {
        "colab": {
          "base_uri": "https://localhost:8080/"
        },
        "id": "9gXIJ8l8m9Hv",
        "outputId": "4d1b34aa-28b6-4db6-a319-8edee9a9c1c2"
      },
      "outputs": [
        {
          "output_type": "stream",
          "name": "stdout",
          "text": [
            "This program adds two numbers.\n",
            "Enter First Number 3\n",
            "Enter Second Number 5\n",
            "The Sum Is: 8\n"
          ]
        }
      ],
      "source": [
        "# Program: add2numbers\n",
        "print(\"This program adds two numbers.\")\n",
        "def main():\n",
        "  num1 : str = input(\"Enter First Number \")\n",
        "  num1 : int = int(num1)\n",
        "  num2 : str = input(\"Enter Second Number \")\n",
        "  num2 : int = int(num2)\n",
        "  total : int = num1 + num2\n",
        "  print(\"The Sum Is:\",total)\n",
        "\n",
        "# This provided line is required at the end of\n",
        "# Python file to call the main() function.\n",
        "if __name__ == '__main__':\n",
        "    main()"
      ]
    },
    {
      "cell_type": "code",
      "source": [
        "print(\"02_agreement_bot\")\n",
        "def bot():\n",
        "  animal = str(input(\"What's your favourite animal?\"))\n",
        "  print(\"My favorite animal is also\" ,animal,\"!\")\n",
        "\n",
        "\n",
        "\n",
        "if __name__ == '__main__':\n",
        "  bot()"
      ],
      "metadata": {
        "colab": {
          "base_uri": "https://localhost:8080/"
        },
        "id": "Rfu_J7kavS7v",
        "outputId": "99590b64-e62c-42b0-e01e-6c5452ff1034"
      },
      "execution_count": null,
      "outputs": [
        {
          "output_type": "stream",
          "name": "stdout",
          "text": [
            "02_agreement_bot\n",
            "What's your favourite animal?dog\n",
            "My favorite animal is also dog !\n"
          ]
        }
      ]
    },
    {
      "cell_type": "code",
      "source": [
        "print(\"03_fahrenheit_to_celsius\")\n",
        "def temperature():\n",
        "  print(\"This code is convert fahrenheit to celsius.\")\n",
        "  degrees_fahrenheit = float(input(\"Enter your Fehrenheit degree: \"))\n",
        "  degrees_celsius = (degrees_fahrenheit - 32) * 5.0/9.0\n",
        "  print(\"Result : \",degrees_celsius,\"C\")\n",
        "\n",
        "if __name__ == '__main__':\n",
        "  temperature()\n",
        "\n"
      ],
      "metadata": {
        "colab": {
          "base_uri": "https://localhost:8080/"
        },
        "id": "J8W0v1hBx62F",
        "outputId": "8c8bca6c-033e-42e0-8c22-0bda4d8b4a2f"
      },
      "execution_count": null,
      "outputs": [
        {
          "output_type": "stream",
          "name": "stdout",
          "text": [
            "03_fahrenheit_to_celsius\n",
            "This code is convert fahrenheit to celsius.\n",
            "Enter your Fehrenheit degree: 55\n",
            "Result :  12.777777777777779 C\n"
          ]
        }
      ]
    },
    {
      "cell_type": "code",
      "source": [
        "print(\"04_how_old_are_they\")\n",
        "def age():\n",
        "  Anton : int = 21   #anton age is 21\n",
        "  Beth : int = 6 + Anton  #Beth is 6 years older then Anton\n",
        "  Chen : int = 20 + Beth   #Chen is 6 years older then Beth\n",
        "  Drew : int = Beth + Chen # Drew is as old as Chen's age plus Anton's age, so add them together\n",
        "  Ethan : int = Chen  # Ethan is the same age as Chen, so set Ethan's age equal to Chen's\n",
        "  # Print out all of the ages!\n",
        "  print(\"Anton is:\" ,   Anton)\n",
        "  print(\"Beth is:\"  ,   Beth)\n",
        "  print(\"Chen is:\"  ,   Chen)\n",
        "  print(\"Drew is:\"  ,   Drew)\n",
        "  print(\"Ethan is:\" ,   Ethan)\n",
        "\n",
        "if __name__ == '__main__':\n",
        "    age()\n"
      ],
      "metadata": {
        "colab": {
          "base_uri": "https://localhost:8080/"
        },
        "id": "T7Tz0uMa06lC",
        "outputId": "ee8afa4b-e078-463e-e7e1-c6467929c673"
      },
      "execution_count": null,
      "outputs": [
        {
          "output_type": "stream",
          "name": "stdout",
          "text": [
            "04_how_old_are_they\n",
            "Anton is: 21\n",
            "Beth is: 27\n",
            "Chen is: 47\n",
            "Drew is: 74\n",
            "Ethan is: 47\n"
          ]
        }
      ]
    },
    {
      "cell_type": "code",
      "source": [
        "print(\"05_triangle_perimeter\")\n",
        "\n",
        "def triangle():\n",
        "    user1 = float(input(\"Enter the length of side 1 of the triangle: \"))\n",
        "    user2 = float(input(\"Enter the length of side 2 of the triangle: \"))\n",
        "    user3 = float(input(\"Enter the length of side 3 of the triangle: \"))\n",
        "    perimeter = user1 + user2 + user3\n",
        "    print(\"The total perimeter is:\", perimeter)\n",
        "\n",
        "if __name__ == '__main__':\n",
        "    triangle()\n"
      ],
      "metadata": {
        "colab": {
          "base_uri": "https://localhost:8080/"
        },
        "id": "ZsyoitJL4kT6",
        "outputId": "28d05de6-dd33-4117-a681-b8b5ad128b8d"
      },
      "execution_count": 1,
      "outputs": [
        {
          "output_type": "stream",
          "name": "stdout",
          "text": [
            "05_triangle_perimeter\n",
            "Enter the length of side 1 of the triangle: 4\n",
            "Enter the length of side 2 of the triangle: 2\n",
            "Enter the length of side 3 of the triangle: 4\n",
            "The total perimeter is: 10.0\n"
          ]
        }
      ]
    },
    {
      "cell_type": "code",
      "source": [
        "print(\"06_square_number\")\n",
        "def sqaure():\n",
        "  num = int(input(\"Type a number to see its square:\"))\n",
        "  print(\"The sqaure of\",num, \"is\", num**2)\n",
        "\n",
        "if __name__ == '__main__':\n",
        "    sqaure()"
      ],
      "metadata": {
        "colab": {
          "base_uri": "https://localhost:8080/"
        },
        "id": "mLxE156llugZ",
        "outputId": "a5cf2916-bff5-42be-ee8e-dc3a99c6b192"
      },
      "execution_count": 4,
      "outputs": [
        {
          "output_type": "stream",
          "name": "stdout",
          "text": [
            "06_square_number\n",
            "Type a number to see its square:7\n",
            "The sqaure of 7 is 49\n"
          ]
        }
      ]
    }
  ]
}