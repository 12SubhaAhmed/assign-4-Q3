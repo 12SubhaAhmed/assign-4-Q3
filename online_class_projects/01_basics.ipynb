{
  "nbformat": 4,
  "nbformat_minor": 0,
  "metadata": {
    "colab": {
      "provenance": [],
      "authorship_tag": "ABX9TyPSNPzG5+gaEqRxuuQdMDQx",
      "include_colab_link": true
    },
    "kernelspec": {
      "name": "python3",
      "display_name": "Python 3"
    },
    "language_info": {
      "name": "python"
    }
  },
  "cells": [
    {
      "cell_type": "markdown",
      "metadata": {
        "id": "view-in-github",
        "colab_type": "text"
      },
      "source": [
        "<a href=\"https://colab.research.google.com/github/12SubhaAhmed/assign-4-Q3/blob/main/01_basics.ipynb\" target=\"_parent\"><img src=\"https://colab.research.google.com/assets/colab-badge.svg\" alt=\"Open In Colab\"/></a>"
      ]
    },
    {
      "cell_type": "code",
      "execution_count": null,
      "metadata": {
        "id": "hgixfdkY7z5m"
      },
      "outputs": [],
      "source": [
        "#00_joke_bot\n",
        "prompt = \"What do you want? \"\n",
        "joke = \"\"\"Why do programmers prefer dark mode?\n",
        "Because light attracts bugs!\"\"\"\n",
        "\n",
        "sorry = \"Sorry, I only tell jokes.\"\n",
        "\n",
        "def main():\n",
        "    user_input = input(prompt).strip().lower()\n",
        "\n",
        "    if \"joke\" in user_input:\n",
        "        print(joke)\n",
        "    else:\n",
        "        print(sorry)\n",
        "\n",
        "if __name__ == \"__main__\":\n",
        "    main()\n"
      ]
    },
    {
      "cell_type": "code",
      "source": [
        "#01_double_it\n",
        "def double():\n",
        "   num = int(input(\"Enter your number to double: \"))\n",
        "   print(\"double is :\",num * 2)\n",
        "\n",
        "if __name__ == \"__main__\":\n",
        "    double()\n"
      ],
      "metadata": {
        "id": "RVCnJhCY92k3"
      },
      "execution_count": null,
      "outputs": []
    },
    {
      "cell_type": "code",
      "source": [
        "#02_liftoff\n",
        "def liftoff():\n",
        "  for i in range(10):\n",
        "    print(10 - i, end=\" \")\n",
        "  print(\"Lift Off...🚀\")\n",
        "\n",
        "if __name__ == \"__main__\":\n",
        "    liftoff()"
      ],
      "metadata": {
        "id": "Lsm1E67C-6dw"
      },
      "execution_count": null,
      "outputs": []
    },
    {
      "cell_type": "code",
      "source": [
        "#03_guess_my_number\n",
        "import random\n",
        "\n",
        "def guess_number():\n",
        "  secretNum : int = random.randint(1,10)\n",
        "  print(\"I'm thinking of a number between 1 to 10 !\")\n",
        "\n",
        "  guess = int(input(\"Enter a guess: \"))\n",
        "\n",
        "  while guess != secretNum:\n",
        "    if guess < secretNum:\n",
        "       print(\"Your guess is too low!\")\n",
        "    else:\n",
        "      print(\"Your guess is too high!\")\n",
        "\n",
        "    print()\n",
        "    guess: int = int(input(\"Enter a new guess: \"))\n",
        "  print(\"Congrats! The number was: \" + str(secretNum))\n",
        "\n",
        "if __name__ == \"__main__\":\n",
        "    guess_number()\n"
      ],
      "metadata": {
        "id": "TR6dLZzyAvzl"
      },
      "execution_count": null,
      "outputs": []
    },
    {
      "cell_type": "code",
      "source": [
        "#04_random_numbers\n",
        "import random\n",
        "\n",
        "def random_number():\n",
        "  for _ in range(10):\n",
        "    print(random.randint(1, 100), end = \" \")\n",
        "\n",
        "if __name__ == \"__main__\":\n",
        "    random_number()\n",
        "\n"
      ],
      "metadata": {
        "id": "HODefHMWDZ91"
      },
      "execution_count": null,
      "outputs": []
    }
  ]
}
