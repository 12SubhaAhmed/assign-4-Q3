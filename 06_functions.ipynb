{
  "nbformat": 4,
  "nbformat_minor": 0,
  "metadata": {
    "colab": {
      "provenance": [],
      "authorship_tag": "ABX9TyOn70WKc/Kn8f3jXmbHO8M+",
      "include_colab_link": true
    },
    "kernelspec": {
      "name": "python3",
      "display_name": "Python 3"
    },
    "language_info": {
      "name": "python"
    }
  },
  "cells": [
    {
      "cell_type": "markdown",
      "metadata": {
        "id": "view-in-github",
        "colab_type": "text"
      },
      "source": [
        "<a href=\"https://colab.research.google.com/github/12SubhaAhmed/assign-4-Q3/blob/main/06_functions.ipynb\" target=\"_parent\"><img src=\"https://colab.research.google.com/assets/colab-badge.svg\" alt=\"Open In Colab\"/></a>"
      ]
    },
    {
      "cell_type": "code",
      "execution_count": null,
      "metadata": {
        "id": "BUtYSxsncqa6"
      },
      "outputs": [],
      "source": [
        "#00_averages\n",
        "def avg(a:float, b:float):\n",
        "  sum = a + b\n",
        "  return sum / 2\n",
        "\n",
        "def main():\n",
        "  avg1 = avg(0,10)\n",
        "  avg2 = avg(0,10)\n",
        "  final = avg(avg1, avg2)\n",
        "\n",
        "  print(\"Average1 = \",avg1)\n",
        "  print(\"Average2 = \",avg2)\n",
        "  print(\"Final = \",final)\n",
        "\n",
        "if __name__ == '__main__':\n",
        "     main()\n",
        "\n"
      ]
    },
    {
      "cell_type": "code",
      "source": [
        "#01_chaotic_counting\n",
        "import random\n",
        "\n",
        "DONE_LIKELIHOOD = 0.3\n",
        "\n",
        "def chaotic_counting():\n",
        "  for i in range(10):\n",
        "    currNum = i+1\n",
        "    if done():\n",
        "      return\n",
        "    print(currNum)\n",
        "\n",
        "def done():\n",
        "  if random.random() < DONE_LIKELIHOOD:\n",
        "    return True\n",
        "  return False\n",
        "\n",
        "\n",
        "def main():\n",
        "    print(\"I'm going to count until 10 or until I feel like stopping, whichever comes first.\")\n",
        "    chaotic_counting()\n",
        "    print(\"I'm done\")\n",
        "\n",
        "if __name__ == \"__main__\":\n",
        "    main()\n",
        "\n"
      ],
      "metadata": {
        "id": "fZ2DcYJEg0HH"
      },
      "execution_count": null,
      "outputs": []
    },
    {
      "cell_type": "code",
      "source": [
        "#02_count_even\n",
        "def count_even(lst = None):\n",
        "  if lst is None:\n",
        "    lst = []\n",
        "\n",
        "  while True:\n",
        "    usr_input = input(\"Enter an integer or press enter to stop: \")\n",
        "    if usr_input == \"\":\n",
        "      break\n",
        "    try:\n",
        "      num = int(usr_input)\n",
        "      lst.append(num)\n",
        "    except ValueError:\n",
        "      print(\"Please enter a valid integer.\")\n",
        "\n",
        "  even_count = sum(1 for x in lst if x % 2 == 0)\n",
        "  print(\"Number of even numbers:\", even_count)\n",
        "\n",
        "if __name__ == \"__main__\":\n",
        "  count_even()\n"
      ],
      "metadata": {
        "id": "J7IGKVFdjRcR"
      },
      "execution_count": null,
      "outputs": []
    },
    {
      "cell_type": "code",
      "source": [
        "#04_double\n",
        "def double():\n",
        "  num = int(input(\"Enter your number: \"))\n",
        "  num2 = num * 2\n",
        "  print(\"Double that is: \",num2)\n",
        "\n",
        "if __name__ == \"__main__\":\n",
        "  double()\n"
      ],
      "metadata": {
        "id": "WvzHymj2ot2o"
      },
      "execution_count": null,
      "outputs": []
    },
    {
      "cell_type": "code",
      "source": [
        "#05_get_name\n",
        "def get_name():\n",
        "  name = input(\"Enter your name: \")\n",
        "  print(\"Howdy\",name,\"!🤠\")\n",
        "\n",
        "if __name__ == \"__main__\":\n",
        "  get_name()"
      ],
      "metadata": {
        "id": "TUdMRxY6rI2G"
      },
      "execution_count": null,
      "outputs": []
    },
    {
      "cell_type": "code",
      "source": [
        "#06_is_odd\n",
        "def main():\n",
        "    for i in range(10):\n",
        "        if is_odd(i):\n",
        "            print('odd')\n",
        "        else:\n",
        "            print('even')\n",
        "\n",
        "def is_odd(value: int):\n",
        "    remainder = value % 2  # 0 if value is divisible by 2, 1 if it isn't\n",
        "    return remainder == 1\n",
        "\n",
        "\n",
        "if __name__ == '__main__':\n",
        "    main()"
      ],
      "metadata": {
        "id": "kCNTCZT4sLVn"
      },
      "execution_count": null,
      "outputs": []
    },
    {
      "cell_type": "code",
      "source": [
        "#07_print_divisor\n",
        "def print_divisors(num: int):\n",
        "    print(\"Here are the divisors of\", num)\n",
        "    for i in range(num):\n",
        "        curr_divisor = i + 1\n",
        "        if num % curr_divisor == 0:\n",
        "            print(curr_divisor)\n",
        "\n",
        "def main():\n",
        "    num = int(input(\"Enter a number: \"))\n",
        "    print_divisors(num)\n",
        "\n",
        "if __name__ == '__main__':\n",
        "    main()"
      ],
      "metadata": {
        "id": "iXWIi1GptMg0"
      },
      "execution_count": null,
      "outputs": []
    },
    {
      "cell_type": "code",
      "source": [
        "#08_print_multiple\n",
        "def print_multiple(message, repeats):\n",
        "    for _ in range(repeats):\n",
        "        print(message)\n",
        "\n",
        "def main():\n",
        "    message = input(\"Please type a message: \")\n",
        "    repeats = int(input(\"Enter a number of times to repeat your message: \"))\n",
        "    print_multiple(message, repeats)\n",
        "\n",
        "if __name__ == \"__main__\":\n",
        "    main()\n"
      ],
      "metadata": {
        "id": "Fom4IVZSur53"
      },
      "execution_count": null,
      "outputs": []
    },
    {
      "cell_type": "code",
      "source": [
        "#09_sentence_generator\n",
        "def make_sentence(word, part_of_speech):\n",
        "    if part_of_speech == 0:\n",
        "        print(f\"I am excited to add this {word} to my vast collection of them!\")\n",
        "    elif part_of_speech == 1:\n",
        "        print(f\"It's so nice outside today it makes me want to {word}!\")\n",
        "    elif part_of_speech == 2:\n",
        "        print(f\"Looking out my window, the sky is big and {word}!\")\n",
        "    else:\n",
        "        print(\"Invalid part of speech. Please enter 0 for noun, 1 for verb, or 2 for adjective.\")\n",
        "\n",
        "# Example of how you might call this in a main() function:\n",
        "def main():\n",
        "    word = input(\"Please type a noun, verb, or adjective: \")\n",
        "    part = int(input(\"Is this a noun, verb, or adjective? Type 0 for noun, 1 for verb, 2 for adjective: \"))\n",
        "    make_sentence(word, part)\n",
        "\n",
        "if __name__ == \"__main__\":\n",
        "    main()"
      ],
      "metadata": {
        "id": "Fh316STewM1X"
      },
      "execution_count": null,
      "outputs": []
    },
    {
      "cell_type": "code",
      "source": [
        "#10_print_ones_digit\n",
        "def print_ones_digit(num):\n",
        "    ones_digit = num % 10\n",
        "    print(\"The ones digit is\", ones_digit)\n",
        "\n",
        "def main():\n",
        "    num = int(input(\"Enter a number: \"))\n",
        "    print_ones_digit(num)\n",
        "\n",
        "if __name__ == \"__main__\":\n",
        "    main()"
      ],
      "metadata": {
        "id": "EkMmPx5JxW1v"
      },
      "execution_count": null,
      "outputs": []
    }
  ]
}